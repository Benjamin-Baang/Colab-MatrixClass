{
  "nbformat": 4,
  "nbformat_minor": 0,
  "metadata": {
    "colab": {
      "provenance": [],
      "authorship_tag": "ABX9TyO8WiA3zk/je/9rANs1GXiM",
      "include_colab_link": true
    },
    "kernelspec": {
      "name": "python3",
      "display_name": "Python 3"
    },
    "language_info": {
      "name": "python"
    }
  },
  "cells": [
    {
      "cell_type": "markdown",
      "metadata": {
        "id": "view-in-github",
        "colab_type": "text"
      },
      "source": [
        "<a href=\"https://colab.research.google.com/github/Benjamin-Baang/Colab-MatrixClass/blob/main/MatrixClass.ipynb\" target=\"_parent\"><img src=\"https://colab.research.google.com/assets/colab-badge.svg\" alt=\"Open In Colab\"/></a>"
      ]
    },
    {
      "cell_type": "code",
      "execution_count": 54,
      "metadata": {
        "id": "gyKsMTnlBjKS"
      },
      "outputs": [],
      "source": [
        "class Matrix:\n",
        "  rows = 0\n",
        "  columns = 0\n",
        "  matrix = []\n",
        "  matrixRow = []\n",
        "  dataCount = 0\n",
        "  matrixList = []\n",
        "  tempProduct = 0\n",
        "\n",
        "  def __init__(self, Rows, Columns, Data = []):\n",
        "    if Data == []:\n",
        "      Data = [None] * (Rows * Columns)\n",
        "    self.matrix = []\n",
        "    self.rows = Rows\n",
        "    self.columns = Columns\n",
        "    for i in range(Rows):\n",
        "      self.matrixRow = []\n",
        "      for j in range(Columns):\n",
        "        self.matrixRow.append(\n",
        "            Data[self.dataCount])\n",
        "        self.dataCount += 1\n",
        "      self.matrix.append(self.matrixRow)\n",
        "\n",
        "  def __getitem__(self, index):\n",
        "    return self.matrix[index]\n",
        "\n",
        "  def __add__(self, Value):\n",
        "    self.matrixList = []\n",
        "    if type(Value) == list:\n",
        "        for i in range(self.rows):\n",
        "          for j in range(self.columns):\n",
        "            self.matrixList.append(\n",
        "                self.matrix[i][j] + Value[i][j])\n",
        "    else:\n",
        "      for i in range(self.rows):\n",
        "        for j in range(self.columns):\n",
        "          self.matrixList.append(\n",
        "              self.matrix[i][j] + Value)\n",
        "    return Matrix(self.rows, self.columns, self.matrixList)\n",
        "\n",
        "  def __mul__(self, MatrixIn):\n",
        "    self.matrixList = []\n",
        "    if type(MatrixIn) == Matrix:\n",
        "      for i in range(self.rows):\n",
        "        for j in range(self.columns):\n",
        "          self.matrixList.append(\n",
        "              self.matrix[i][j] * MatrixIn[i][j])\n",
        "    else:\n",
        "      for i in range(self.rows):\n",
        "        for j in range(self.columns):\n",
        "          self.matrixList.append(\n",
        "              self.matrix[i][j] * MatrixIn)\n",
        "    return Matrix(self.rows, self.columns, self.matrixList)\n",
        "\n",
        "  def dot(self, MatrixIn):\n",
        "    self.matrixList = []\n",
        "    for i in range(self.rows):\n",
        "      for j in range(MatrixIn.columns):\n",
        "        tempProduct = 0\n",
        "        for k in range(self.columns):\n",
        "          tempProduct += self.matrix[i][k] * MatrixIn[k][j]\n",
        "        self.matrixList.append(tempProduct)\n",
        "    return Matrix(self.rows, MatrixIn.columns, self.matrixList)\n",
        "\n",
        "  def transpose(self):\n",
        "    self.matrixList = []\n",
        "    for i in range(self.columns):\n",
        "      for j in range(self.rows):\n",
        "        self.matrixList.append(self.matrix[j][i])\n",
        "    return Matrix(self.columns, self.rows, self.matrixList)"
      ]
    }
  ]
}