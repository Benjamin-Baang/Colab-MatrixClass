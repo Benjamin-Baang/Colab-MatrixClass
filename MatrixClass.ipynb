{
  "nbformat": 4,
  "nbformat_minor": 0,
  "metadata": {
    "colab": {
      "provenance": [],
      "authorship_tag": "ABX9TyP4Uf4HrRO4Q9P7PnvTnonX",
      "include_colab_link": true
    },
    "kernelspec": {
      "name": "python3",
      "display_name": "Python 3"
    },
    "language_info": {
      "name": "python"
    }
  },
  "cells": [
    {
      "cell_type": "markdown",
      "metadata": {
        "id": "view-in-github",
        "colab_type": "text"
      },
      "source": [
        "<a href=\"https://colab.research.google.com/github/Benjamin-Baang/Colab-MatrixClass/blob/main/MatrixClass.ipynb\" target=\"_parent\"><img src=\"https://colab.research.google.com/assets/colab-badge.svg\" alt=\"Open In Colab\"/></a>"
      ]
    },
    {
      "cell_type": "code",
      "execution_count": 13,
      "metadata": {
        "id": "gyKsMTnlBjKS"
      },
      "outputs": [],
      "source": [
        "class Matrix:\n",
        "  rows = 0\n",
        "  columns = 0\n",
        "  matrix = []\n",
        "  matrixRow = []\n",
        "  dataCount = 0\n",
        "  matrixList = []\n",
        "  tempProduct = 0\n",
        "\n",
        "  def __init__(self, Rows, Columns, Data = []):\n",
        "    if Data == []:\n",
        "      Data = [None] * (Rows * Columns)\n",
        "    self.matrix = []\n",
        "    self.rows = Rows\n",
        "    self.columns = Columns\n",
        "    for i in range(Rows):\n",
        "      self.matrixRow = []\n",
        "      for j in range(Columns):\n",
        "        self.matrixRow.append(\n",
        "            Data[self.dataCount])\n",
        "        self.dataCount += 1\n",
        "      self.matrix.append(self.matrixRow)\n",
        "\n",
        "  def __getitem__(self, index):\n",
        "    return self.matrix[index]\n",
        "\n",
        "  def __add__(self, Value):\n",
        "    self.matrixList = []\n",
        "    if type(Value) == list:\n",
        "        for i in range(self.rows):\n",
        "          for j in range(self.columns):\n",
        "            self.matrixList.append(\n",
        "                self.matrix[i][j] + Value[i][j])\n",
        "    else:\n",
        "      for i in range(self.rows):\n",
        "        for j in range(self.columns):\n",
        "          self.matrixList.append(\n",
        "              self.matrix[i][j] + Value)\n",
        "    return Matrix(self.rows, self.columns, self.matrixList)"
      ]
    }
  ]
}