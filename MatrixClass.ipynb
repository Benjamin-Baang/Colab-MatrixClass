{
  "nbformat": 4,
  "nbformat_minor": 0,
  "metadata": {
    "colab": {
      "provenance": [],
      "authorship_tag": "ABX9TyNq67vKS1NqKK4I7F7R9kRq",
      "include_colab_link": true
    },
    "kernelspec": {
      "name": "python3",
      "display_name": "Python 3"
    },
    "language_info": {
      "name": "python"
    }
  },
  "cells": [
    {
      "cell_type": "markdown",
      "metadata": {
        "id": "view-in-github",
        "colab_type": "text"
      },
      "source": [
        "<a href=\"https://colab.research.google.com/github/Benjamin-Baang/Colab-MatrixClass/blob/main/MatrixClass.ipynb\" target=\"_parent\"><img src=\"https://colab.research.google.com/assets/colab-badge.svg\" alt=\"Open In Colab\"/></a>"
      ]
    },
    {
      "cell_type": "code",
      "execution_count": 3,
      "metadata": {
        "id": "gyKsMTnlBjKS"
      },
      "outputs": [],
      "source": [
        "class Matrix:\n",
        "  rows = 0\n",
        "  columns = 0\n",
        "  matrix = []\n",
        "  matrixRow = []\n",
        "  dataCount = 0\n",
        "  matrixList = []\n",
        "  tempProduct = 0\n",
        "\n",
        "  def __init__(self, Rows, Columns, Data = []):\n",
        "    if Data == []:\n",
        "      Data = [None] * (Rows * Columns)\n",
        "    self.matrix = []\n",
        "    self.rows = Rows\n",
        "    self.columns = Columns\n",
        "    for i in range(Rows):\n",
        "      self.matrixRow = []\n",
        "      for j in range(Columns):\n",
        "        self.matrixRow.append(\n",
        "            Data[self.dataCount])\n",
        "        self.dataCount += 1\n",
        "      self.matrix.append(self.matrixRow)"
      ]
    }
  ]
}